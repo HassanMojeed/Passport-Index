{
 "cells": [
  {
   "cell_type": "markdown",
   "metadata": {},
   "source": [
    "Python script by [__Hassan Mojeed__](https://www.linkedin.com/in/hassanmojeed)<br>\n",
    "Email: mojeed.o.hassan@gmail.com<br>\n",
    "Website: [https://hassanmojeed.pages.dev](https://hassanmojeed.pages.dev)\n",
    "\n",
    "\n",
    "\n",
    "# Page 1"
   ]
  },
  {
   "cell_type": "markdown",
   "metadata": {},
   "source": [
    "## Introduction\n",
    "\n",
    "##### This study delves into the global strength of passports by analyzing data from the Henley Passport Index spanning from 2010 to 2024. \n",
    "\n",
    "##### The Henley Passport Index ranks passports worldwide based on travel freedom for their holders. It is the original index using data from the _International Air Transport Association (IATA)_ and is published by the Henley & Partners research institute. The index includes **199** different passports and **227** different travel destinations\n",
    "\n",
    "## Data Sources\n",
    "\n",
    "##### The Henley Passport Index data serves as the primary dataset for this study, complemented by other relevant datasets. The objective is to gain insights into the growth of mobility scores and other indicators across various countries.\n",
    "\n",
    "##### Datasets considered include:\n",
    "\n",
    "##### - Henley Passport Index Data (2010 - 2024) - [Data Source : https://www.henleyglobal.com/passport-index/ranking](https://www.henleyglobal.com/passport-index/ranking)\n",
    "##### - Population By Country (2010 - 2024) - [Data Source : https://databank.worldbank.org/reports.aspx?source=2&series=SP.POP.TOTL&country=](https://databank.worldbank.org/reports.aspx?source=2&series=SP.POP.TOTL&country=)\n",
    "##### - Country and GDP Per Capita (2010 - 2022) - [Data Source : https://databank.worldbank.org/reports.aspx?source=2&series=NY.GDP.PCAP.CD&country=](https://databank.worldbank.org/reports.aspx?source=2&series=NY.GDP.PCAP.CD&country=)\n",
    "##### - Country and GDP Per Capita (2023 - 2024) - [Data Source : https://www.imf.org/external/datamapper/NGDPDPC@WEO/OEMDC/ADVEC/WEOWORLD/SSD](https://www.imf.org/external/datamapper/NGDPDPC@WEO/OEMDC/ADVEC/WEOWORLD/SSD)\n",
    "##### - World Population (2010 - 2024) - [Data Source : https://www.macrotrends.net/global-metrics/countries/WLD/world/population](https://www.macrotrends.net/global-metrics/countries/WLD/world/population)\n",
    "##### - Passport Images Data - [Data Source : https://www.passportindex.org/](https://www.passportindex.org/)\n",
    "##### - Country Flags Data - [Data Source : https://en.wikipedia.org/wiki/Gallery_of_sovereign_state_flags](\"https://en.wikipedia.org/wiki/Gallery_of_sovereign_state_flags\")\n",
    "##### - Currency and Symbol Data - [https://thefactfile.org/countries-currencies-symbols/](https://thefactfile.org/countries-currencies-symbols/)\n",
    "##### - Country Codes Data - Google Search\n",
    "##### - Country and Languages Data - Google Search\n",
    "\n",
    "\n",
    "## Data Exploration and Cleaning\n",
    "\n",
    "##### The data exploration and cleaning process aims to streamline the dataset for analysis. This includes cleaning and exploring the Passport Index, Country and Code Data, Passport Images Data, and Country, Capital & Languages Data.\n",
    "\n",
    "##### Other data exploration and cleaning process can be accessed on page two, page three and page four by clicking on each highlighted part.\n",
    "\n",
    "\n",
    "## Data Loading\n",
    "\n",
    "##### Upon completion of the data cleaning and exploration, all datasets will be loaded into Google BigQuery for further analysis and interpretation.<br>\n",
    "Checkout [__Page 2__](https://nbviewer.org/github/HassanMojeed/Passport-Index/blob/720f2fffbb32feb2ea0cf613678dd3256807fc0c/Population%20Data%20From%20database%20dot%20earth.ipynb), [__Page 3__](https://nbviewer.org/github/HassanMojeed/Passport-Index/blob/156adb31f5702d9c814d9fbdfc762062a2b198f0/Country%20Flag%20Image%20Link.ipynb) and [__Page 4__](https://nbviewer.org/github/HassanMojeed/Passport-Index/blob/417277b653e5bee002639205363d1dbd7a068eda/Country%20and%20GDP%20Per%20Capital%20Data%202010_2024.ipynb)\n"
  
   ]
  },
  {
   "cell_type": "code",
   "execution_count": 18,
   "metadata": {
    "ExecuteTime": {
     "end_time": "2023-05-17T03:08:38.048189Z",
     "start_time": "2023-05-17T03:08:37.804410Z"
    },
    "collapsed": true
   },
   "outputs": [],
   "source": [
    "import pandas as pd\n",
    "import numpy as np\n",
    "import os\n",
    "from glob import glob\n",
    "import pandas_gbq\n",
    "import warnings\n",
    "warnings.filterwarnings(\"ignore\")"
   ]
  },
  {
   "cell_type": "markdown",
   "metadata": {},
   "source": [
    "### Passport Index Data (2010 - 2024)"
   ]
  },
  {
   "cell_type": "code",
   "execution_count": 19,
   "metadata": {},
   "outputs": [
    {
     "data": {
      "text/plain": [
       "'/Users/mj/Projects/Projects/More Projects/passport index/data'"
      ]
     },
     "execution_count": 19,
     "metadata": {},
     "output_type": "execute_result"
    }
   ],
   "source": [
    "pwd = os.getcwd() \n",
    "datadir = pwd +\"/passport index/data\"\n",
    "datadir"
   ]
  },
  {
   "cell_type": "code",
   "execution_count": 20,
   "metadata": {},
   "outputs": [
    {
     "data": {
      "text/plain": [
       "['/Users/mj/Projects/Projects/More Projects/passport index/data/henley-passport-index--2023.csv',\n",
       " '/Users/mj/Projects/Projects/More Projects/passport index/data/henley-passport-index--2024.csv',\n",
       " '/Users/mj/Projects/Projects/More Projects/passport index/data/passport image link.csv',\n",
       " '/Users/mj/Projects/Projects/More Projects/passport index/data/Positions.csv',\n",
       " '/Users/mj/Projects/Projects/More Projects/passport index/data/henley-passport-index--2006-2022.csv',\n",
       " '/Users/mj/Projects/Projects/More Projects/passport index/data/country code.csv']"
      ]
     },
     "execution_count": 20,
     "metadata": {},
     "output_type": "execute_result"
    }
   ],
   "source": [
    "file_paths = glob(datadir+\"/*.csv\")\n",
    "file_paths"
   ]
  },
  {
   "cell_type": "code",
   "execution_count": 21,
   "metadata": {},
   "outputs": [],
   "source": [
    "# importing 2006 -2022 Henley Passport Index Data\n",
    "df_one = pd.read_csv(\"/Users/mj/Projects/Projects/More Projects/passport index/data/henley-passport-index--2006-2022.csv\")\n",
    "\n",
    "\n",
    "# For the purpose of this study we will be focusing on time period from 2010 and above\n",
    "df_one = df_one[df_one[\"YEAR\"] > 2009]"
   ]
  },
  {
   "cell_type": "code",
   "execution_count": 22,
   "metadata": {},
   "outputs": [
    {
     "name": "stdout",
     "output_type": "stream",
     "text": [
      "47 zeros found in access_to_countries column \n",
      "\n"
     ]
    }
   ],
   "source": [
    "# Exploring the data\n",
    "print(str(df_one[df_one[\"ACCESS TO COUNTRIES\"] == 0].value_counts().sum()) + \" zeros found in access_to_countries column \\n\")"
   ]
  },
  {
   "cell_type": "code",
   "execution_count": 23,
   "metadata": {},
   "outputs": [],
   "source": [
    "# filling rows with zero values\n",
    "\n",
    "# This function fills a missing value on the \"ACCESS TO COUNTRIES\" column base on the condition that \n",
    "# row in focus either has the same rank with previous row or the next row.\n",
    "\n",
    "def access_to_countries(row):\n",
    "    \"\"\"\n",
    "    Function to update \"ACCESS TO COUNTRIES\" column in the DataFrame based on specific conditions.\n",
    "\n",
    "    Parameters:\n",
    "    - row: DataFrame row representing each entry to be processed\n",
    "\n",
    "    Returns:\n",
    "    - Updated value for \"ACCESS TO COUNTRIES\" column based on defined conditions\n",
    "    \"\"\"\n",
    "    # Check if 'ACCESS TO COUNTRIES' is 0\n",
    "    if row[\"ACCESS TO COUNTRIES\"] == 0:\n",
    "        # Get the rank of the previous entry (if available)\n",
    "        prev_rank = df_one.loc[row.name - 1, \"RANK\"] if row.name > 0 else None\n",
    "        \n",
    "        # Get the rank of the next entry (if available)\n",
    "        next_rank = df_one.loc[row.name + 1, \"RANK\"] if row.name < len(df_one) - 1 else None\n",
    "        \n",
    "        # Check if the current rank matches the previous rank\n",
    "        if prev_rank is not None and row[\"RANK\"] == prev_rank:\n",
    "            # Return the 'ACCESS TO COUNTRIES' value of the previous entry\n",
    "            return df_one.loc[row.name - 1, \"ACCESS TO COUNTRIES\"]\n",
    "        # Check if the current rank matches the next rank\n",
    "        elif next_rank is not None and row[\"RANK\"] == next_rank:\n",
    "            # Return the 'ACCESS TO COUNTRIES' value of the next entry\n",
    "            return df_one.loc[row.name + 1, \"ACCESS TO COUNTRIES\"]\n",
    "    \n",
    "    # Return the original 'ACCESS TO COUNTRIES' value if conditions are not met\n",
    "    return row[\"ACCESS TO COUNTRIES\"]\n",
    "\n",
    "# Apply the 'access_to_countries' function to update 'ACCESS TO COUNTRIES' column in df_one DataFrame\n",
    "df_one[\"ACCESS TO COUNTRIES\"] = df_one.apply(access_to_countries, axis=1)\n"
   ]
  },
  {
   "cell_type": "code",
   "execution_count": 24,
   "metadata": {},
   "outputs": [
    {
     "name": "stdout",
     "output_type": "stream",
     "text": [
      "(2587, 5)\n",
      "       Country  Rank  Visa_Free_Destinations  Year  Visa_Required_Destination\n",
      "0        Japan     1                     192  2022                         35\n",
      "1    Singapore     1                     192  2022                         35\n",
      "2      Germany     2                     190  2022                         37\n",
      "3  South Korea     2                     190  2022                         37\n",
      "4      Finland     3                     189  2022                         38\n"
     ]
    }
   ],
   "source": [
    "# This function fills a missing value on the \"ACCESS TO COUNTRIES\" column base on the condition that \n",
    "# it finds the average of the \"ACCESS TO COUNTRIES\" of previous row and the next row.\n",
    "\n",
    "# Locating all zero values within the ACCESS TO COUNTRIES column\n",
    "zero_values = df_one[df_one[\"ACCESS TO COUNTRIES\"] == 0].index\n",
    "\n",
    "# Loop through each row with ACCESS TO COUNTRIES value 0\n",
    "for indx in zero_values:\n",
    "    # Find the previous and next rows\n",
    "    prev_row = df_one.loc[indx - 1]\n",
    "    next_row = df_one.loc[indx + 1]\n",
    "    \n",
    "    # Calculate the average ACCESS TO COUNTRIES value between the previous and next rows\n",
    "    avg_access = (prev_row[\"ACCESS TO COUNTRIES\"] + next_row[\"ACCESS TO COUNTRIES\"]) / 2\n",
    "    \n",
    "    # Assign the average ACCESS TO COUNTRIES value to the current row\n",
    "    df_one.at[indx, \"ACCESS TO COUNTRIES\"] = avg_access\n",
    "\n",
    "# Calculate the number of Visa Required Destinations based on the total number of countries (226) and ACCESS TO COUNTRIES values\n",
    "df_one[\"Visa_Required_Destination\"] = 227 - df_one[\"ACCESS TO COUNTRIES\"]\n",
    "\n",
    "# Rename columns for clarity and consistency\n",
    "df_one.rename(columns={\n",
    "    \"COUNTRY\": \"Country\",\n",
    "    \"RANK\": \"Rank\",\n",
    "    \"ACCESS TO COUNTRIES\": \"Visa_Free_Destinations\",\n",
    "    \"YEAR\": \"Year\"\n",
    "}, inplace=True)\n",
    "\n",
    "# Convert Visa_Free_Destinations and Visa_Required_Destination columns to integer type\n",
    "df_one[\"Visa_Free_Destinations\"] = df_one[\"Visa_Free_Destinations\"].astype(int)\n",
    "df_one[\"Visa_Required_Destination\"] = df_one[\"Visa_Required_Destination\"].astype(int)\n",
    "\n",
    "# Print the shape (dimensions) of the DataFrame df_one\n",
    "print(df_one.shape)\n",
    "\n",
    "# Print the first few rows of the DataFrame df_one for inspection\n",
    "print(df_one.head())"
   ]
  },
  {
   "cell_type": "code",
   "execution_count": 25,
   "metadata": {},
   "outputs": [
    {
     "name": "stdout",
     "output_type": "stream",
     "text": [
      "(199, 5)\n",
      "       Country  Rank  Visa_Free_Destinations  Year  Visa_Required_Destination\n",
      "0        Japan     1                     193  2023                         34\n",
      "1    Singapore     2                     192  2023                         35\n",
      "2  South Korea     2                     192  2023                         35\n",
      "3      Germany     3                     190  2023                         37\n",
      "4        Spain     3                     190  2023                         37\n"
     ]
    }
   ],
   "source": [
    "# importing 2023 Henley Passport Index Data\n",
    "df_two = pd.read_csv(\"/Users/mj/Projects/Projects/More Projects/passport index/data/henley-passport-index--2023.csv\")\n",
    "\n",
    "# Adding a year column to the data\n",
    "df_two[\"Year\"] = 2023\n",
    "\n",
    "# Renaming the \"Score Column\" to \"Visa_Free\"\n",
    "df_two.rename(columns={\"Score\" : \"Visa_Free_Destinations\"}, inplace= True)\n",
    "\n",
    "# Adding the \"Visa_Required_Destination\" Column\n",
    "\n",
    "df_two[\"Visa_Required_Destination\"] = 227 - df_two[\"Visa_Free_Destinations\"]\n",
    "\n",
    "print(df_two.shape)\n",
    "\n",
    "print(df_two.head())"
   ]
  },
  {
   "cell_type": "code",
   "execution_count": 26,
   "metadata": {},
   "outputs": [
    {
     "name": "stdout",
     "output_type": "stream",
     "text": [
      "(199, 5)\n"
     ]
    }
   ],
   "source": [
    "# Import 2024 Henley Passport Index Data from a CSV file\n",
    "df_three = pd.read_csv(\"/Users/mj/Projects/Projects/More Projects/passport index/data/henley-passport-index--2024.csv\")\n",
    "\n",
    "# Rank countries based on the \"Visa Free\" column to generate the 'Rank' column\n",
    "df_three[\"Rank\"] = df_three[\"Visa Free\"].rank(method=\"dense\", ascending=False)\n",
    "\n",
    "# Add a 'Year' column with the value 2024 to indicate the year of the data\n",
    "df_three[\"Year\"] = 2024\n",
    "\n",
    "# Rename columns for clarity and consistency\n",
    "df_three.rename(columns={\n",
    "    \"Origin\": \"Country\",\n",
    "    \"Visa Free\": \"Visa_Free_Destinations\",\n",
    "    \"Visa Required\": \"Visa_Required_Destination\"\n",
    "}, inplace=True)\n",
    "\n",
    "# Sort the DataFrame by 'Rank' and 'Country' columns in ascending order\n",
    "df_three.sort_values(by=[\"Rank\", \"Country\"], ascending=True, inplace=True, ignore_index=True)\n",
    "\n",
    "# Select and rearrange columns of interest in the DataFrame\n",
    "df_three = df_three[[\"Country\", \"Rank\", \"Visa_Free_Destinations\", \"Year\", \"Visa_Required_Destination\"]]\n",
    "\n",
    "# Convert selected columns to integer type for appropriate data representation\n",
    "df_three[\"Visa_Free_Destinations\"] = df_three[\"Visa_Free_Destinations\"].astype(int)\n",
    "df_three[\"Visa_Required_Destination\"] = df_three[\"Visa_Required_Destination\"].astype(int)\n",
    "df_three[\"Rank\"] = df_three[\"Rank\"].astype(int)\n",
    "\n",
    "# Display the shape (dimensions) of the DataFrame df_three\n",
    "print(df_three.shape)"
   ]
  },
  {
   "cell_type": "code",
   "execution_count": 27,
   "metadata": {},
   "outputs": [
    {
     "name": "stdout",
     "output_type": "stream",
     "text": [
      "(2985, 5)\n"
     ]
    },
    {
     "data": {
      "text/html": [
       "<div>\n",
       "<style scoped>\n",
       "    .dataframe tbody tr th:only-of-type {\n",
       "        vertical-align: middle;\n",
       "    }\n",
       "\n",
       "    .dataframe tbody tr th {\n",
       "        vertical-align: top;\n",
       "    }\n",
       "\n",
       "    .dataframe thead th {\n",
       "        text-align: right;\n",
       "    }\n",
       "</style>\n",
       "<table border=\"1\" class=\"dataframe\">\n",
       "  <thead>\n",
       "    <tr style=\"text-align: right;\">\n",
       "      <th></th>\n",
       "      <th>Country</th>\n",
       "      <th>Rank</th>\n",
       "      <th>Visa_Free_Destinations</th>\n",
       "      <th>Year</th>\n",
       "      <th>Visa_Required_Destination</th>\n",
       "    </tr>\n",
       "  </thead>\n",
       "  <tbody>\n",
       "    <tr>\n",
       "      <th>0</th>\n",
       "      <td>Japan</td>\n",
       "      <td>1</td>\n",
       "      <td>192</td>\n",
       "      <td>2022</td>\n",
       "      <td>35</td>\n",
       "    </tr>\n",
       "    <tr>\n",
       "      <th>1</th>\n",
       "      <td>Singapore</td>\n",
       "      <td>1</td>\n",
       "      <td>192</td>\n",
       "      <td>2022</td>\n",
       "      <td>35</td>\n",
       "    </tr>\n",
       "    <tr>\n",
       "      <th>2</th>\n",
       "      <td>Germany</td>\n",
       "      <td>2</td>\n",
       "      <td>190</td>\n",
       "      <td>2022</td>\n",
       "      <td>37</td>\n",
       "    </tr>\n",
       "    <tr>\n",
       "      <th>3</th>\n",
       "      <td>South Korea</td>\n",
       "      <td>2</td>\n",
       "      <td>190</td>\n",
       "      <td>2022</td>\n",
       "      <td>37</td>\n",
       "    </tr>\n",
       "    <tr>\n",
       "      <th>4</th>\n",
       "      <td>Finland</td>\n",
       "      <td>3</td>\n",
       "      <td>189</td>\n",
       "      <td>2022</td>\n",
       "      <td>38</td>\n",
       "    </tr>\n",
       "  </tbody>\n",
       "</table>\n",
       "</div>"
      ],
      "text/plain": [
       "       Country  Rank  Visa_Free_Destinations  Year  Visa_Required_Destination\n",
       "0        Japan     1                     192  2022                         35\n",
       "1    Singapore     1                     192  2022                         35\n",
       "2      Germany     2                     190  2022                         37\n",
       "3  South Korea     2                     190  2022                         37\n",
       "4      Finland     3                     189  2022                         38"
      ]
     },
     "execution_count": 27,
     "metadata": {},
     "output_type": "execute_result"
    }
   ],
   "source": [
    "# Combine all data together\n",
    "\n",
    "all_passport_ranking_data = pd.concat([df_one, df_two, df_three])\n",
    "\n",
    "print(all_passport_ranking_data.shape)\n",
    "\n",
    "all_passport_ranking_data.head()"
   ]
  },
  {
   "cell_type": "code",
   "execution_count": 28,
   "metadata": {},
   "outputs": [
    {
     "name": "stdout",
     "output_type": "stream",
     "text": [
      "(2985, 5)\n"
     ]
    },
    {
     "data": {
      "text/html": [
       "<div>\n",
       "<style scoped>\n",
       "    .dataframe tbody tr th:only-of-type {\n",
       "        vertical-align: middle;\n",
       "    }\n",
       "\n",
       "    .dataframe tbody tr th {\n",
       "        vertical-align: top;\n",
       "    }\n",
       "\n",
       "    .dataframe thead th {\n",
       "        text-align: right;\n",
       "    }\n",
       "</style>\n",
       "<table border=\"1\" class=\"dataframe\">\n",
       "  <thead>\n",
       "    <tr style=\"text-align: right;\">\n",
       "      <th></th>\n",
       "      <th>Country</th>\n",
       "      <th>Rank</th>\n",
       "      <th>Visa_Free_Destinations</th>\n",
       "      <th>Year</th>\n",
       "      <th>Visa_Required_Destination</th>\n",
       "    </tr>\n",
       "  </thead>\n",
       "  <tbody>\n",
       "    <tr>\n",
       "      <th>0</th>\n",
       "      <td>Japan</td>\n",
       "      <td>1</td>\n",
       "      <td>192</td>\n",
       "      <td>2022</td>\n",
       "      <td>35</td>\n",
       "    </tr>\n",
       "    <tr>\n",
       "      <th>1</th>\n",
       "      <td>Singapore</td>\n",
       "      <td>1</td>\n",
       "      <td>192</td>\n",
       "      <td>2022</td>\n",
       "      <td>35</td>\n",
       "    </tr>\n",
       "    <tr>\n",
       "      <th>2</th>\n",
       "      <td>Germany</td>\n",
       "      <td>2</td>\n",
       "      <td>190</td>\n",
       "      <td>2022</td>\n",
       "      <td>37</td>\n",
       "    </tr>\n",
       "    <tr>\n",
       "      <th>3</th>\n",
       "      <td>South Korea</td>\n",
       "      <td>2</td>\n",
       "      <td>190</td>\n",
       "      <td>2022</td>\n",
       "      <td>37</td>\n",
       "    </tr>\n",
       "    <tr>\n",
       "      <th>4</th>\n",
       "      <td>Finland</td>\n",
       "      <td>3</td>\n",
       "      <td>189</td>\n",
       "      <td>2022</td>\n",
       "      <td>38</td>\n",
       "    </tr>\n",
       "  </tbody>\n",
       "</table>\n",
       "</div>"
      ],
      "text/plain": [
       "       Country  Rank  Visa_Free_Destinations  Year  Visa_Required_Destination\n",
       "0        Japan     1                     192  2022                         35\n",
       "1    Singapore     1                     192  2022                         35\n",
       "2      Germany     2                     190  2022                         37\n",
       "3  South Korea     2                     190  2022                         37\n",
       "4      Finland     3                     189  2022                         38"
      ]
     },
     "execution_count": 28,
     "metadata": {},
     "output_type": "execute_result"
    }
   ],
   "source": [
    "# Replace specific country names in the 'Country' column of all_passport_ranking_data DataFrame\n",
    "all_passport_ranking_data[\"Country\"].replace({\n",
    "    \"Türkiye\": \"Turkey\",\n",
    "    \"Brunei\": \"Brunei Darussalam\",\n",
    "    \"Czechia\": \"Czech Republic\",\n",
    "    \"The Gambia\": \"Gambia\",\n",
    "    \"Vatican City\": \"Vatican City(Holy See)\",\n",
    "    \"Moldova\": \"Republic of Moldova\",\n",
    "    \"St. Kitts and Nevis\": \"Saint Kitts and Nevis\",\n",
    "    \"St. Lucia\": \"Saint Lucia\",\n",
    "    \"St. Vincent and the Grenadines\": \"Saint Vincent and the Grenadines\",\n",
    "    \"Palestinian Territory\": \"State of Palestine\",\n",
    "    \"United States\": \"United States of America\"\n",
    "}, inplace=True)\n",
    "\n",
    "# Display the shape (dimensions) of the DataFrame all_passport_ranking_data\n",
    "print(all_passport_ranking_data.shape)\n",
    "\n",
    "all_passport_ranking_data.to_parquet(\"Passport Index.parquet\")\n",
    "\n",
    "# Display the first few rows of the DataFrame all_passport_ranking_data for inspection\n",
    "all_passport_ranking_data.head()"
   ]
  },
  {
   "cell_type": "code",
   "execution_count": 29,
   "metadata": {},
   "outputs": [
    {
     "name": "stdout",
     "output_type": "stream",
     "text": [
      "(199, 2)\n"
     ]
    },
    {
     "data": {
      "text/html": [
       "<div>\n",
       "<style scoped>\n",
       "    .dataframe tbody tr th:only-of-type {\n",
       "        vertical-align: middle;\n",
       "    }\n",
       "\n",
       "    .dataframe tbody tr th {\n",
       "        vertical-align: top;\n",
       "    }\n",
       "\n",
       "    .dataframe thead th {\n",
       "        text-align: right;\n",
       "    }\n",
       "</style>\n",
       "<table border=\"1\" class=\"dataframe\">\n",
       "  <thead>\n",
       "    <tr style=\"text-align: right;\">\n",
       "      <th></th>\n",
       "      <th>Rank</th>\n",
       "      <th>Position</th>\n",
       "    </tr>\n",
       "  </thead>\n",
       "  <tbody>\n",
       "    <tr>\n",
       "      <th>0</th>\n",
       "      <td>1</td>\n",
       "      <td>1st</td>\n",
       "    </tr>\n",
       "    <tr>\n",
       "      <th>1</th>\n",
       "      <td>2</td>\n",
       "      <td>2nd</td>\n",
       "    </tr>\n",
       "    <tr>\n",
       "      <th>2</th>\n",
       "      <td>3</td>\n",
       "      <td>3rd</td>\n",
       "    </tr>\n",
       "    <tr>\n",
       "      <th>3</th>\n",
       "      <td>4</td>\n",
       "      <td>4th</td>\n",
       "    </tr>\n",
       "    <tr>\n",
       "      <th>4</th>\n",
       "      <td>5</td>\n",
       "      <td>5th</td>\n",
       "    </tr>\n",
       "  </tbody>\n",
       "</table>\n",
       "</div>"
      ],
      "text/plain": [
       "   Rank Position\n",
       "0     1      1st\n",
       "1     2      2nd\n",
       "2     3      3rd\n",
       "3     4      4th\n",
       "4     5      5th"
      ]
     },
     "execution_count": 29,
     "metadata": {},
     "output_type": "execute_result"
    }
   ],
   "source": [
    "# importing the positions data. This help to provide the 1st, 2nd, 3rd and so on columns for this study\n",
    "file_position = pd.read_csv(\"/Users/mj/Projects/Projects/More Projects/passport index/data/positions.csv\")\n",
    "\n",
    "print(file_position.shape)\n",
    "\n",
    "file_position.head()"
   ]
  },
  {
   "cell_type": "code",
   "execution_count": 30,
   "metadata": {},
   "outputs": [
    {
     "name": "stdout",
     "output_type": "stream",
     "text": [
      "(2985, 6)\n"
     ]
    },
    {
     "data": {
      "text/html": [
       "<div>\n",
       "<style scoped>\n",
       "    .dataframe tbody tr th:only-of-type {\n",
       "        vertical-align: middle;\n",
       "    }\n",
       "\n",
       "    .dataframe tbody tr th {\n",
       "        vertical-align: top;\n",
       "    }\n",
       "\n",
       "    .dataframe thead th {\n",
       "        text-align: right;\n",
       "    }\n",
       "</style>\n",
       "<table border=\"1\" class=\"dataframe\">\n",
       "  <thead>\n",
       "    <tr style=\"text-align: right;\">\n",
       "      <th></th>\n",
       "      <th>Country</th>\n",
       "      <th>Rank</th>\n",
       "      <th>Visa_Free_Destinations</th>\n",
       "      <th>Year</th>\n",
       "      <th>Visa_Required_Destination</th>\n",
       "      <th>Position</th>\n",
       "    </tr>\n",
       "  </thead>\n",
       "  <tbody>\n",
       "    <tr>\n",
       "      <th>0</th>\n",
       "      <td>Japan</td>\n",
       "      <td>1</td>\n",
       "      <td>192</td>\n",
       "      <td>2022</td>\n",
       "      <td>35</td>\n",
       "      <td>1st</td>\n",
       "    </tr>\n",
       "    <tr>\n",
       "      <th>1</th>\n",
       "      <td>Singapore</td>\n",
       "      <td>1</td>\n",
       "      <td>192</td>\n",
       "      <td>2022</td>\n",
       "      <td>35</td>\n",
       "      <td>1st</td>\n",
       "    </tr>\n",
       "    <tr>\n",
       "      <th>2</th>\n",
       "      <td>Germany</td>\n",
       "      <td>2</td>\n",
       "      <td>190</td>\n",
       "      <td>2022</td>\n",
       "      <td>37</td>\n",
       "      <td>2nd</td>\n",
       "    </tr>\n",
       "    <tr>\n",
       "      <th>3</th>\n",
       "      <td>South Korea</td>\n",
       "      <td>2</td>\n",
       "      <td>190</td>\n",
       "      <td>2022</td>\n",
       "      <td>37</td>\n",
       "      <td>2nd</td>\n",
       "    </tr>\n",
       "    <tr>\n",
       "      <th>4</th>\n",
       "      <td>Finland</td>\n",
       "      <td>3</td>\n",
       "      <td>189</td>\n",
       "      <td>2022</td>\n",
       "      <td>38</td>\n",
       "      <td>3rd</td>\n",
       "    </tr>\n",
       "  </tbody>\n",
       "</table>\n",
       "</div>"
      ],
      "text/plain": [
       "       Country  Rank  Visa_Free_Destinations  Year  Visa_Required_Destination  \\\n",
       "0        Japan     1                     192  2022                         35   \n",
       "1    Singapore     1                     192  2022                         35   \n",
       "2      Germany     2                     190  2022                         37   \n",
       "3  South Korea     2                     190  2022                         37   \n",
       "4      Finland     3                     189  2022                         38   \n",
       "\n",
       "  Position  \n",
       "0      1st  \n",
       "1      1st  \n",
       "2      2nd  \n",
       "3      2nd  \n",
       "4      3rd  "
      ]
     },
     "execution_count": 30,
     "metadata": {},
     "output_type": "execute_result"
    }
   ],
   "source": [
    "# merging with the final data\n",
    "\n",
    "merged_data = pd.merge(all_passport_ranking_data,file_position, how='left', on='Rank')\n",
    "\n",
    "print(merged_data.shape)\n",
    "\n",
    "merged_data.head()\n"
   ]
  },
  {
   "cell_type": "code",
   "execution_count": 31,
   "metadata": {},
   "outputs": [],
   "source": [
    "# write data to Google Big Query\n",
    "\n",
    "table = \"Country_Rank.passport index\"\n",
    "project_id = \"cool-ship-407420\"\n",
    "\n",
    "pandas_gbq.to_gbq(merged_data,destination_table=table, project_id=project_id, if_exists=\"replace\")"
   ]
  },
  {
   "cell_type": "markdown",
   "metadata": {},
   "source": [
    "### Country and Country Code Data"
   ]
  },
  {
   "cell_type": "code",
   "execution_count": 13,
   "metadata": {},
   "outputs": [],
   "source": [
    "# Importing country code data\n",
    "country_code_data = pd.read_csv(\"/Users/mj/Projects/Projects/More Projects/passport index/data/country code.csv\")"
   ]
  },
  {
   "cell_type": "code",
   "execution_count": 14,
   "metadata": {},
   "outputs": [
    {
     "name": "stdout",
     "output_type": "stream",
     "text": [
      "(199, 2)\n"
     ]
    },
    {
     "data": {
      "text/html": [
       "<div>\n",
       "<style scoped>\n",
       "    .dataframe tbody tr th:only-of-type {\n",
       "        vertical-align: middle;\n",
       "    }\n",
       "\n",
       "    .dataframe tbody tr th {\n",
       "        vertical-align: top;\n",
       "    }\n",
       "\n",
       "    .dataframe thead th {\n",
       "        text-align: right;\n",
       "    }\n",
       "</style>\n",
       "<table border=\"1\" class=\"dataframe\">\n",
       "  <thead>\n",
       "    <tr style=\"text-align: right;\">\n",
       "      <th></th>\n",
       "      <th>code</th>\n",
       "      <th>country</th>\n",
       "    </tr>\n",
       "  </thead>\n",
       "  <tbody>\n",
       "    <tr>\n",
       "      <th>0</th>\n",
       "      <td>af</td>\n",
       "      <td>Afghanistan</td>\n",
       "    </tr>\n",
       "    <tr>\n",
       "      <th>1</th>\n",
       "      <td>al</td>\n",
       "      <td>Albania</td>\n",
       "    </tr>\n",
       "    <tr>\n",
       "      <th>2</th>\n",
       "      <td>dz</td>\n",
       "      <td>Algeria</td>\n",
       "    </tr>\n",
       "    <tr>\n",
       "      <th>3</th>\n",
       "      <td>ad</td>\n",
       "      <td>Andorra</td>\n",
       "    </tr>\n",
       "    <tr>\n",
       "      <th>4</th>\n",
       "      <td>ao</td>\n",
       "      <td>Angola</td>\n",
       "    </tr>\n",
       "  </tbody>\n",
       "</table>\n",
       "</div>"
      ],
      "text/plain": [
       "  code      country\n",
       "0   af  Afghanistan\n",
       "1   al      Albania\n",
       "2   dz      Algeria\n",
       "3   ad      Andorra\n",
       "4   ao       Angola"
      ]
     },
     "execution_count": 14,
     "metadata": {},
     "output_type": "execute_result"
    }
   ],
   "source": [
    "# Replace specific country names in the 'country' column of country_code_data DataFrame\n",
    "country_code_data[\"country\"].replace({\n",
    "    \"Türkiye\": \"Turkey\",\n",
    "    \"Brunei\": \"Brunei Darussalam\",\n",
    "    \"Czechia\": \"Czech Republic\",\n",
    "    \"The Gambia\": \"Gambia\",\n",
    "    \"Vatican City\": \"Vatican City(Holy See)\",\n",
    "    \"Moldova\": \"Republic of Moldova\",\n",
    "    \"St. Kitts and Nevis\": \"Saint Kitts and Nevis\",\n",
    "    \"St. Lucia\": \"Saint Lucia\",\n",
    "    \"St. Vincent and the Grenadines\": \"Saint Vincent and the Grenadines\",\n",
    "    \"Palestinian Territory\": \"State of Palestine\",\n",
    "    \"United States\": \"United States of America\"\n",
    "}, inplace=True)\n",
    "\n",
    "# Display the shape (dimensions) of the DataFrame country_code_data\n",
    "print(country_code_data.shape)\n",
    "\n",
    "country_code_data.to_parquet(\"Country and Code.parquet\")\n",
    "\n",
    "country_code_data.head()"
   ]
  },
  {
   "cell_type": "code",
   "execution_count": 15,
   "metadata": {},
   "outputs": [],
   "source": [
    "# Writing data to Google Big Query\n",
    "\n",
    "#table = \"Country_Rank.Country and Code\"\n",
    "#project_id = \"cool-ship-407420\"\n",
    "\n",
    "#pandas_gbq.to_gbq(country_code_data,destination_table=table, project_id=project_id, if_exists=\"replace\")"
   ]
  },
  {
   "cell_type": "markdown",
   "metadata": {},
   "source": [
    "### Passport Images Data"
   ]
  },
  {
   "cell_type": "code",
   "execution_count": 16,
   "metadata": {},
   "outputs": [
    {
     "name": "stdout",
     "output_type": "stream",
     "text": [
      "(199, 2)\n"
     ]
    },
    {
     "data": {
      "text/html": [
       "<div>\n",
       "<style scoped>\n",
       "    .dataframe tbody tr th:only-of-type {\n",
       "        vertical-align: middle;\n",
       "    }\n",
       "\n",
       "    .dataframe tbody tr th {\n",
       "        vertical-align: top;\n",
       "    }\n",
       "\n",
       "    .dataframe thead th {\n",
       "        text-align: right;\n",
       "    }\n",
       "</style>\n",
       "<table border=\"1\" class=\"dataframe\">\n",
       "  <thead>\n",
       "    <tr style=\"text-align: right;\">\n",
       "      <th></th>\n",
       "      <th>Country Code</th>\n",
       "      <th>Passport Url</th>\n",
       "    </tr>\n",
       "  </thead>\n",
       "  <tbody>\n",
       "    <tr>\n",
       "      <th>0</th>\n",
       "      <td>af</td>\n",
       "      <td>https://www.passportindex.org/countries/af.png</td>\n",
       "    </tr>\n",
       "    <tr>\n",
       "      <th>1</th>\n",
       "      <td>al</td>\n",
       "      <td>https://www.passportindex.org/countries/al.png</td>\n",
       "    </tr>\n",
       "    <tr>\n",
       "      <th>2</th>\n",
       "      <td>dz</td>\n",
       "      <td>https://www.passportindex.org/countries/dz.png</td>\n",
       "    </tr>\n",
       "    <tr>\n",
       "      <th>3</th>\n",
       "      <td>ad</td>\n",
       "      <td>https://www.passportindex.org/countries/ad.png</td>\n",
       "    </tr>\n",
       "    <tr>\n",
       "      <th>4</th>\n",
       "      <td>ao</td>\n",
       "      <td>https://www.passportindex.org/countries/ao.png</td>\n",
       "    </tr>\n",
       "  </tbody>\n",
       "</table>\n",
       "</div>"
      ],
      "text/plain": [
       "  Country Code                                    Passport Url\n",
       "0           af  https://www.passportindex.org/countries/af.png\n",
       "1           al  https://www.passportindex.org/countries/al.png\n",
       "2           dz  https://www.passportindex.org/countries/dz.png\n",
       "3           ad  https://www.passportindex.org/countries/ad.png\n",
       "4           ao  https://www.passportindex.org/countries/ao.png"
      ]
     },
     "execution_count": 16,
     "metadata": {},
     "output_type": "execute_result"
    }
   ],
   "source": [
    "# Importing data for all links to passport images\n",
    "\n",
    "df = pd.read_csv(\"/Users/mj/Projects/Projects/More Projects/passport index/data/passport image link.csv\") \n",
    "\n",
    "df.to_parquet(\"Passport Images Data.parquet\")\n",
    "\n",
    "print(df.shape)\n",
    "\n",
    "df.head()"
   ]
  },
  {
   "cell_type": "code",
   "execution_count": 17,
   "metadata": {},
   "outputs": [],
   "source": [
    "# Writing data to Google Big Query\n",
    "\n",
    "#table = \"Country_Rank.Passport Images Data\"\n",
    "#project_id = \"cool-ship-407420\"\n",
    "\n",
    "#pandas_gbq.to_gbq(df,destination_table=table, project_id=project_id, if_exists=\"replace\")"
   ]
  },
  {
   "cell_type": "markdown",
   "metadata": {},
   "source": [
    "### Country, Capital And Language"
   ]
  },
  {
   "cell_type": "code",
   "execution_count": 18,
   "metadata": {},
   "outputs": [
    {
     "data": {
      "text/html": [
       "<div>\n",
       "<style scoped>\n",
       "    .dataframe tbody tr th:only-of-type {\n",
       "        vertical-align: middle;\n",
       "    }\n",
       "\n",
       "    .dataframe tbody tr th {\n",
       "        vertical-align: top;\n",
       "    }\n",
       "\n",
       "    .dataframe thead th {\n",
       "        text-align: right;\n",
       "    }\n",
       "</style>\n",
       "<table border=\"1\" class=\"dataframe\">\n",
       "  <thead>\n",
       "    <tr style=\"text-align: right;\">\n",
       "      <th></th>\n",
       "      <th>Country</th>\n",
       "      <th>Capital city</th>\n",
       "      <th>Language</th>\n",
       "    </tr>\n",
       "  </thead>\n",
       "  <tbody>\n",
       "    <tr>\n",
       "      <th>0</th>\n",
       "      <td>Afghanistan</td>\n",
       "      <td>Kabul</td>\n",
       "      <td>Dari Persian</td>\n",
       "    </tr>\n",
       "    <tr>\n",
       "      <th>1</th>\n",
       "      <td>Albania</td>\n",
       "      <td>Tirana</td>\n",
       "      <td>Albanian</td>\n",
       "    </tr>\n",
       "    <tr>\n",
       "      <th>2</th>\n",
       "      <td>Algeria</td>\n",
       "      <td>Algiers</td>\n",
       "      <td>Arabic</td>\n",
       "    </tr>\n",
       "    <tr>\n",
       "      <th>3</th>\n",
       "      <td>Andorra</td>\n",
       "      <td>Andorra la Vella</td>\n",
       "      <td>Catalan</td>\n",
       "    </tr>\n",
       "    <tr>\n",
       "      <th>4</th>\n",
       "      <td>Angola</td>\n",
       "      <td>Luanda</td>\n",
       "      <td>Portuguese</td>\n",
       "    </tr>\n",
       "  </tbody>\n",
       "</table>\n",
       "</div>"
      ],
      "text/plain": [
       "  Country                                      Capital city      Language\n",
       "0                             Afghanistan             Kabul  Dari Persian\n",
       "1                                 Albania            Tirana      Albanian\n",
       "2                                 Algeria           Algiers        Arabic\n",
       "3                                 Andorra  Andorra la Vella       Catalan\n",
       "4                                  Angola            Luanda    Portuguese"
      ]
     },
     "execution_count": 18,
     "metadata": {},
     "output_type": "execute_result"
    }
   ],
   "source": [
    "# Importing data for all links to passport images\n",
    "\n",
    "xcel_data = pd.read_excel(\"/Users/mj/Projects/Projects/More Projects/passport index/data/Country_Capital_Language.xlsx\")\n",
    "\n",
    "\n",
    "xcel_data.to_parquet(\"Country_Capital_Language.parquet\")\n",
    "\n",
    "xcel_data.head()"
   ]
  },
  {
   "cell_type": "code",
   "execution_count": 19,
   "metadata": {},
   "outputs": [],
   "source": [
    "# Writing data to Google Big Query\n",
    "\n",
    "#table = \"Country_Rank.Country_Capital_Language\"\n",
    "#project_id = \"cool-ship-407420\"\n",
    "\n",
    "#pandas_gbq.to_gbq(xcel_data,destination_table=table, project_id=project_id, if_exists=\"replace\")"
   ]
  }
 ],
 "metadata": {
  "kernelspec": {
   "display_name": "Python 3",
   "language": "python",
   "name": "python3"
  },
  "language_info": {
   "codemirror_mode": {
    "name": "ipython",
    "version": 3
   },
   "file_extension": ".py",
   "mimetype": "text/x-python",
   "name": "python",
   "nbconvert_exporter": "python",
   "pygments_lexer": "ipython3",
   "version": "3.11.4"
  }
 },
 "nbformat": 4,
 "nbformat_minor": 0
}
